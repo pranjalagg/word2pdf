{
 "cells": [
  {
   "cell_type": "code",
   "execution_count": 13,
   "metadata": {},
   "outputs": [],
   "source": [
    "import argparse\n",
    "import docx\n",
    "import re\n",
    "import os\n",
    "from pathlib import Path\n",
    "import win32com.client\n",
    "import sys\n",
    "from tqdm import tqdm\n",
    "import pandas as pd"
   ]
  },
  {
   "cell_type": "code",
   "execution_count": 4,
   "metadata": {},
   "outputs": [],
   "source": [
    "def storeInfo(f, tags):\n",
    "    for tag in list(tags.keys()):\n",
    "        f.write(tag + \"\\n\")"
   ]
  },
  {
   "cell_type": "code",
   "execution_count": 9,
   "metadata": {},
   "outputs": [],
   "source": [
    "def getTags(paths, rm=False):\n",
    "    word = win32com.client.Dispatch(\"Word.Application\")\n",
    "    wdFormatDocumentDefault = 16\n",
    "\n",
    "    if paths['bulk']:\n",
    "        for filepath in tqdm(sorted(Path(paths['input']).glob(\"*.doc\"))):\n",
    "            # if str(filepath).endswith(\".doc\"):\n",
    "            doc_file = filepath.parent / filepath.stem\n",
    "            # print(doc_file, \".docx\")\n",
    "            document = word.Documents.Open(str(filepath))\n",
    "            document.SaveAs(str(doc_file) + \".docx\", FileFormat=wdFormatDocumentDefault)\n",
    "            document.Close(0)\n",
    "            if rm:\n",
    "                os.remove(str(doc_file) + \".doc\")\n",
    "        \n",
    "        f = open('Info.txt', \"w+\")\n",
    "        for filepath in tqdm(sorted(Path(paths['input']).glob(\"*.docx\"))):\n",
    "            # print(filepath)\n",
    "            f.write(\"\\n---- \" + str(filepath.stem) + \" ----\\n\")\n",
    "            document = docx.Document(str(filepath))\n",
    "\n",
    "            tags = {}\n",
    "            for line in document.paragraphs:\n",
    "                # print(line.text)\n",
    "                # word_lst = []\n",
    "                for word in line.text.split():\n",
    "                    # word_lst.append(word)\n",
    "                    # word_lst.extend(re.findall(\"«.*»\", word))\n",
    "\n",
    "                    temp = re.findall(\"«.*»\", word)\n",
    "                    # print(word, temp)\n",
    "                    try:\n",
    "                        tags[temp[0]] = tags.get(temp[0], 0) + 1\n",
    "                    except:\n",
    "                        # print('---ERROR---')\n",
    "                        pass\n",
    "                \n",
    "                # print(word_lst)\n",
    "            # print(tags)\n",
    "            storeInfo(f, tags)\n",
    "            # if rm:\n",
    "            #     os.remove(str(filepath))\n",
    "            # break\n",
    "        f.close()\n",
    "\n",
    "    else:\n",
    "        filepath = Path(paths['input'])\n",
    "        # print(str(filepath))\n",
    "        if str(filepath).endswith(\".doc\"):\n",
    "            # print(\"Here\")\n",
    "            document = word.Documents.Open(str(filepath))\n",
    "            document.SaveAs(str(filepath.parent / filepath.stem) + \".docx\", FileFormat=wdFormatDocumentDefault)\n",
    "            document.Close(0)\n",
    "            if rm:\n",
    "                os.remove(str(filepath.parent / filepath.stem) + \".doc\")\n",
    "        \n",
    "        f = open('Info.txt', \"w+\")\n",
    "        f.write(\"\\n---- \" + str(filepath.stem) + \" ----\\n\")\n",
    "        document = docx.Document(str(filepath.parent / filepath.stem) + \".docx\")\n",
    "\n",
    "        tags = {}\n",
    "        for line in document.paragraphs:\n",
    "            for word  in line.text.split():\n",
    "                temp = re.findall(\"«.*»\", word)\n",
    "                try:\n",
    "                    tags[temp[0]] = tags.get(temp[0], 0) + 1\n",
    "                except:\n",
    "                    pass\n",
    "        \n",
    "        storeInfo(f, tags)\n",
    "        # if rm:\n",
    "        #         os.remove(str(filepath.parent / filepath.stem) + \".docx\")\n",
    "        f.close()"
   ]
  },
  {
   "cell_type": "code",
   "execution_count": 10,
   "metadata": {},
   "outputs": [],
   "source": [
    "def resolvePath(in_path):\n",
    "    in_path = Path(in_path).resolve()\n",
    "\n",
    "    paths = {}\n",
    "    if in_path.is_file():\n",
    "        print('Getting info from file ...')\n",
    "        paths['bulk'] = False\n",
    "        paths['input'] = str(in_path)\n",
    "\n",
    "    elif in_path.is_dir():\n",
    "        print('Inside the directory ...')\n",
    "        paths['bulk'] = True\n",
    "        paths['input'] = str(in_path)\n",
    "\n",
    "    else:\n",
    "        print(\"Please check your path and try again. Remember to remove the '\\\\' at the end if it is a folder\")\n",
    "        sys.exit(0)\n",
    "\n",
    "    return paths"
   ]
  },
  {
   "cell_type": "code",
   "execution_count": 11,
   "metadata": {},
   "outputs": [
    {
     "name": "stdout",
     "output_type": "stream",
     "text": [
      "Getting info from file ...\n"
     ]
    }
   ],
   "source": [
    "inpath = 'D:\\CCS\\Template Attachments\\myfolder\\CCSE-121-UG Lateral Hardening_Mid Construction_All Utilities_English.docx'\n",
    "paths = resolvePath(inpath)\n",
    "getTags(paths)"
   ]
  },
  {
   "cell_type": "code",
   "execution_count": null,
   "metadata": {},
   "outputs": [],
   "source": []
  }
 ],
 "metadata": {
  "kernelspec": {
   "display_name": "Python 3",
   "language": "python",
   "name": "python3"
  },
  "language_info": {
   "codemirror_mode": {
    "name": "ipython",
    "version": 3
   },
   "file_extension": ".py",
   "mimetype": "text/x-python",
   "name": "python",
   "nbconvert_exporter": "python",
   "pygments_lexer": "ipython3",
   "version": "3.10.9"
  },
  "orig_nbformat": 4,
  "vscode": {
   "interpreter": {
    "hash": "ce7437fcddc8c70efc2bde718d7f19aac466def2f5d9563c847e2dde90aa18fb"
   }
  }
 },
 "nbformat": 4,
 "nbformat_minor": 2
}
